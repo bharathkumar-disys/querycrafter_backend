{
 "cells": [
  {
   "cell_type": "code",
   "execution_count": null,
   "id": "1f3a7e32-651a-4b40-8b5f-a8776873ed4a",
   "metadata": {},
   "outputs": [],
   "source": [
    "# import sqlite3\n",
    "# import pandas as pd\n",
    "# from services.connection_to_database import return_session,return_engine\n",
    "# from services.schema_generation import  return_result_after_query,return_schema_short\n",
    "# import sqlite3\n",
    "# import pandas as pd\n",
    "# import pandas as pd\n",
    "\n",
    "# # Path to the SQLite database file (it will be created if it doesn't exist)\n",
    "# sqlite_db_path = 'data/hiring_mod.sqlite'\n",
    "\n",
    "# # Connect to the SQLite database (this will create the database if it doesn't exist)\n",
    "# conn = sqlite3.connect(sqlite_db_path)\n",
    "# cursor = conn.cursor()\n",
    "\n",
    "# # Create a 'hiring' table with specified columns and set 'id' column as primary key\n",
    "# create_table_query = '''\n",
    "# CREATE TABLE IF NOT EXISTS hiring (\n",
    "#     id INTEGER PRIMARY KEY,\n",
    "#     title TEXT,\n",
    "#     description TEXT,\n",
    "#     name TEXT,\n",
    "#     dateAddedFormatted DATE,\n",
    "#     title_description TEXT,\n",
    "#     skills_extracted TEXT,\n",
    "#     categories TEXT,\n",
    "#     sub_categories TEXT\n",
    "# );\n",
    "# '''\n",
    "\n",
    "\n",
    "# cursor.execute(create_table_query)\n",
    "# conn.commit()\n",
    "# conn.close()\n",
    "\n",
    "# db_path='sqlite:///data/hiring_mod.sqlite'\n",
    "# session=return_session(db_path)\n",
    "# engine=return_engine(db_path)\n",
    "# schema=return_schema_short(engine)\n",
    "# print(schema)\n",
    "\n",
    "# df=pd.read_csv('data/hiring.csv')\n",
    "# df.reset_index( inplace=True)\n",
    "# print(df.columns)\n",
    "\n",
    "# cols=df.columns\n",
    "# for i,j in df.iterrows():\n",
    "#     temp=[]\n",
    "#     for k in cols:\n",
    "#         temp.append(j[k])\n",
    "#     #print(temp)\n",
    "#     query = f\"\"\"\n",
    "#     INSERT INTO hiring\n",
    "#     (id, title, description, name, dateAddedFormatted, title_description, skills_extracted, categories, sub_categories)\n",
    "#     VALUES ({temp[0]}, '{temp[1]}', '{temp[2]}', '{temp[3]}', '{temp[4]}', '{temp[5]}', '{temp[6].replace(\"'\",'')}', '{temp[7]}', '{temp[8]}');\n",
    "#     \"\"\"\n",
    "#     #print(query)\n",
    "#     try:\n",
    "#         print(temp[0])\n",
    "#         sqlite_db_path = 'data/hiring_mod.sqlite'\n",
    "#         conn = sqlite3.connect(sqlite_db_path)\n",
    "#         cursor = conn.cursor()\n",
    "#         cursor.execute(query)\n",
    "#         conn.commit()\n",
    "#         conn.close()\n",
    "#     except Exception as e:\n",
    "#         print(\"error\",e)\n"
   ]
  },
  {
   "cell_type": "code",
   "execution_count": null,
   "id": "e82b636b",
   "metadata": {},
   "outputs": [],
   "source": [
    "\n",
    "conn = sqlite3.connect(\"./data/hire.sqlite\")\n",
    "cursor = conn.cursor()\n",
    "query=\"\"\"\n",
    "UPDATE hiring\n",
    "SET dateAddedFormatted =  DATE(SUBSTR(dateAddedFormatted, 7, 4) || '-' || SUBSTR(dateAddedFormatted, 4, 2) || '-' || SUBSTR(dateAddedFormatted, 1, 2));\n",
    "\"\"\"\n",
    "cursor.execute(query)\n",
    "conn.commit()\n",
    "conn.close()"
   ]
  },
  {
   "cell_type": "code",
   "execution_count": null,
   "id": "8b3ef47f",
   "metadata": {},
   "outputs": [],
   "source": [
    "\n",
    "\n",
    "Select \n",
    "strftime('%m',DATE(SUBSTR(dateAddedFormatted, 7, 4) || '-' || SUBSTR(dateAddedFormatted, 4, 2) || '-' || SUBSTR(dateAddedFormatted, 1, 2)))\n",
    "\n",
    "AS formatted_date FROM hiring;\n",
    "UPDATE hiring\n",
    "SET dateAddedFormatted = strftime('%m', DATE(SUBSTR(dateAddedFormatted, 7, 4) || '-' || SUBSTR(dateAddedFormatted, 4, 2) || '-' || SUBSTR(dateAddedFormatted, 1, 2)));"
   ]
  },
  {
   "cell_type": "code",
   "execution_count": null,
   "id": "9934fd99",
   "metadata": {},
   "outputs": [],
   "source": [
    "db_path=\"sqlite:///data/hire.sqlite\"\n",
    "session=return_session(db_path)\n",
    "query=\"\"\"\n",
    "\n",
    "SELECT dateAddedFormatted,strftime('%m',dateAddedFormatted) as total FROM hiring ;\n",
    "\n",
    "\n",
    "\"\"\"\n",
    "t=return_result_after_query(session,query)\n",
    "print(t)"
   ]
  },
  {
   "cell_type": "code",
   "execution_count": null,
   "id": "34d43b59-8810-4a6b-998d-a38c40fed018",
   "metadata": {},
   "outputs": [],
   "source": [
    "import sqlite3\n",
    "import pandas as pd\n",
    "from services.connection_to_database import return_session,return_engine\n",
    "from services.schema_generation import  return_result_after_query,return_schema_short\n",
    "\n",
    "from services.question_to_viz import question_to_viz,prompt_to_questions,return_schema_in_database\n",
    "from services.connection_to_database import connectdatabasename_to_database,return_all_databases,connectdatabasename_to_database,return_engine,return_session\n",
    "from services.schema_generation import  return_schema_short\n",
    "\n",
    "\n",
    "databases=return_all_databases()\n",
    "database_name='hiring'\n",
    "# database_name=\"e_government\"\n",
    "db_path=connectdatabasename_to_database(database_name)\n",
    "\n",
    "database_name,db_path\n"
   ]
  },
  {
   "cell_type": "code",
   "execution_count": null,
   "id": "5854662b-f8b2-45b2-8268-901c221f0f7a",
   "metadata": {},
   "outputs": [],
   "source": [
    "#schema=return_schema_short_with_input(db_path,limit=2)\n",
    "engine=return_engine(db_path)\n",
    "schema=return_schema_short(engine)\n",
    "print(schema)"
   ]
  },
  {
   "cell_type": "code",
   "execution_count": null,
   "id": "551b0b7e-6d34-4436-a019-acc7ff7dea7a",
   "metadata": {},
   "outputs": [],
   "source": [
    "schema=\"\"\"\n",
    "'\\nTable hiring, Columns= [id:INTEGER,title:TEXT,description:TEXT,name:TEXT,\n",
    "dateAddedFormatted:DATE,title_description:TEXT,skills_extracted:TEXT,categories:TEXT,sub_categories:TEXT];'\n",
    "\"\"\"\n",
    "\n",
    "description_database=\"\"\"\n",
    "(id:unique primary key, title:job title for which recruitment needed, description:job description, name:name of company, dateAddedFormatted,\n",
    "title_description:description about job title, skills_extracted:skill needed, categories:job under which it will lies, sub_categories)\n",
    "\"\"\""
   ]
  },
  {
   "cell_type": "code",
   "execution_count": null,
   "id": "8ca2a4d0-0f3e-4f39-8e43-290f0e6cfbba",
   "metadata": {},
   "outputs": [],
   "source": [
    "example=\"\"\"\n",
    "{\n",
    "\"summary\"=\"This database has information about ....\",\n",
    "\"Roles\"= [\"HR Manager\",\"Finance Manager\",\"Sales Manager\",\"Marketing Manager\",\"IT Administrator\",\"Customer Support Manager\",\"Product Manager\"]\n",
    "}\n",
    "\"\"\"\n",
    "prompt=f\"\"\"\n",
    "\n",
    "Please provide a brief summary of the database schema and suggest roles that users might assume while asking question for query \n",
    "a database which schema below in triple backticks.\n",
    "\n",
    "\n",
    "Give a brief summary.\n",
    "Database Schema:```{schema}```\n",
    "\n",
    "please follow json format for giving output:\n",
    "example:\n",
    "{example}\n",
    "\n",
    "\n",
    "\n",
    "\"\"\"\n",
    "print(prompt)\n"
   ]
  },
  {
   "cell_type": "code",
   "execution_count": null,
   "id": "595b1a8c-4470-44f9-bcd2-b8bc20067853",
   "metadata": {},
   "outputs": [],
   "source": [
    "from services.connection_to_gpt import get_completion\n",
    "import regex as re\n",
    "model='gpt-3'\n",
    "response,all_resp = get_completion(prompt,model=model)\n",
    "print(response)\n",
    "\n",
    "usd=83.25\n",
    "if(model=='gpt-3'):\n",
    "    print(f\"total token:{all_resp['usage']['total_tokens']}\")\n",
    "    print(f\"cost : {all_resp['usage']['total_tokens']*2*0.000001*usd} indian rupees\")\n",
    "elif (model=='gpt-4'):\n",
    "    print(f\"total token:{all_resp['usage']['total_tokens']}\")\n",
    "    print(f\"cost : {all_resp['usage']['total_tokens']*6*0.00001*usd} indian rupees\")\n",
    "    \n"
   ]
  },
  {
   "cell_type": "code",
   "execution_count": null,
   "id": "817e5b78-cd45-4fa6-9e61-c9b8ecd86293",
   "metadata": {},
   "outputs": [],
   "source": [
    "from services.connection_to_gpt import get_completion\n",
    "import regex as re\n",
    "model='gpt-4'\n",
    "response,all_resp = get_completion(prompt,model=model)\n",
    "print(response)\n",
    "\n",
    "usd=83.25\n",
    "if(model=='gpt-3'):\n",
    "    print(f\"total token:{all_resp['usage']['total_tokens']}\")\n",
    "    print(f\"cost : {all_resp['usage']['total_tokens']*2*0.000001*usd} indian rupees\")\n",
    "elif (model=='gpt-4'):\n",
    "    print(f\"total token:{all_resp['usage']['total_tokens']}\")\n",
    "    print(f\"cost : {all_resp['usage']['total_tokens']*6*0.00001*usd} indian rupees\")\n",
    "    \n"
   ]
  },
  {
   "cell_type": "code",
   "execution_count": null,
   "id": "8eb73922-7dd8-417b-9665-e9fe400337c6",
   "metadata": {},
   "outputs": [],
   "source": [
    "import json\n",
    "summary,roles=json.loads(response)['summary'],json.loads(response)['Roles']\n",
    "roles,summary"
   ]
  },
  {
   "cell_type": "code",
   "execution_count": null,
   "id": "4f4e8535-4383-4226-a4de-a101d967d85e",
   "metadata": {},
   "outputs": [],
   "source": [
    "role=\"HR Manager\"\n",
    "\n",
    "prompt= f\"\"\"\n",
    "Your task is read and analyze the given schema and based on that create 10 different questions that should give excellent  \n",
    "analytical insight to the user who is a {role} . It would be good, if you include questions that require SQL to use, Group by, aggregate \n",
    "function, min, max, probability etc. I want question to be more mathematical and analytical oriented.\n",
    "Database Schema:```{schema}```\n",
    "\n",
    "Give answer in Python list format: [\"question1\",\"question2\",\"question3\",...,\"question10\"]\n",
    " \n",
    "\"\"\"\n",
    "print(prompt)"
   ]
  },
  {
   "cell_type": "code",
   "execution_count": null,
   "id": "28ac2a76-abfe-48cf-9679-6936da52dd50",
   "metadata": {},
   "outputs": [],
   "source": [
    "from services.connection_to_gpt import get_completion\n",
    "import regex as re\n",
    "import json\n",
    "model='gpt-4'\n",
    "response,all_resp = get_completion(prompt,model=model)\n",
    "print(response)\n",
    "\n",
    "usd=83.25\n",
    "if(model=='gpt-3'):\n",
    "    print(f\"total token:{all_resp['usage']['total_tokens']}\")\n",
    "    print(f\"cost : {all_resp['usage']['total_tokens']*2*0.000001*usd} indian rupees\")\n",
    "elif (model=='gpt-4'):\n",
    "    print(f\"total token:{all_resp['usage']['total_tokens']}\")\n",
    "    print(f\"cost : {all_resp['usage']['total_tokens']*6*0.00001*usd} indian rupees\")\n",
    "\n",
    "\n",
    "\n",
    "questions=json.loads(response)\n",
    "if len(questions)>9:\n",
    "    print(questions)\n",
    "else:\n",
    "    questions=re.findall(r'\\d+\\.\\s+(.+\\?)',response)\n",
    "    print(questions)"
   ]
  },
  {
   "cell_type": "code",
   "execution_count": null,
   "id": "36dd935d-d5a2-437b-a2e0-b0b591124b6a",
   "metadata": {},
   "outputs": [],
   "source": [
    "\n",
    "question=questions[6]\n",
    "question=\"What is the most common skill required in the job postings?\"\n",
    "print(question)"
   ]
  },
  {
   "cell_type": "code",
   "execution_count": null,
   "id": "0e29ef4a-95be-4f91-974c-73603a15ea9f",
   "metadata": {
    "scrolled": true
   },
   "outputs": [],
   "source": [
    "from services.prompt_template import return_prompt_template\n",
    "\n",
    "prompt=return_prompt_template(question,schema)\n",
    "print(prompt)"
   ]
  },
  {
   "cell_type": "code",
   "execution_count": null,
   "id": "6b9c3f11-f4b3-42f8-8df3-6e221b17a5f2",
   "metadata": {
    "scrolled": true
   },
   "outputs": [],
   "source": [
    "\n",
    "\n",
    "\n",
    "model='gpt-4'\n",
    "response,all_resp = get_completion(prompt)\n",
    "print(response)\n",
    "\n",
    "usd=83.25\n",
    "if(model=='gpt-3'):\n",
    "    print(f\"total token:{all_resp['usage']['total_tokens']}\")\n",
    "    print(f\"cost : {all_resp['usage']['total_tokens']*2*0.000001*usd} indian rupees\")\n",
    "elif (model=='gpt-4'):\n",
    "    print(f\"total token:{all_resp['usage']['total_tokens']}\")\n",
    "    print(f\"cost : {all_resp['usage']['total_tokens']*6*0.00001*usd} indian rupees\")"
   ]
  },
  {
   "cell_type": "code",
   "execution_count": null,
   "id": "9d66f4f3-75e4-436d-af7b-1fe70d802820",
   "metadata": {},
   "outputs": [],
   "source": [
    "\n",
    "\n",
    "import regex as re\n",
    "res=response\n",
    "\n",
    "query=re.findall(\"'query':'(.*;)\",res,re.DOTALL)[0]\n",
    "print(query)\n",
    "chart_type=re.findall(\"'chart_type':'(.*)',\",res)[0]\n",
    "print(chart_type)\n",
    "code=re.findall(\"'chart_code':'(.*)'\",res,re.DOTALL)[0]\n",
    "print(code)"
   ]
  },
  {
   "cell_type": "code",
   "execution_count": null,
   "id": "1f03fa6c-8fdb-4fc0-8a39-53b875cbc6b5",
   "metadata": {},
   "outputs": [],
   "source": []
  },
  {
   "cell_type": "code",
   "execution_count": null,
   "id": "ce7976a5-9484-4186-a34e-fad58fb467ec",
   "metadata": {
    "scrolled": true
   },
   "outputs": [],
   "source": [
    "from services.schema_generation import return_schema,return_result_after_query_in_df,return_result_after_query\n",
    "t=return_result_after_query_in_df(session,query)\n",
    "print(return_result_after_query(session,query))\n",
    "print(t)\n",
    "\n",
    "for i in t.columns:\n",
    "    print(f'[\"{i}\"]')\n",
    "    code=code.replace(f'[\"{i}\"]',str(list(t[i])))\n",
    "    \n",
    "code=code.replace(\"'\",'\"')\n",
    "print(code)"
   ]
  },
  {
   "cell_type": "code",
   "execution_count": null,
   "id": "3846679d-7123-4f26-8e8e-f95841b345a5",
   "metadata": {},
   "outputs": [],
   "source": [
    "import json\n",
    "import plotly.graph_objects as go\n",
    "\n",
    "input_string = code\n",
    "\n",
    "# Parse the input string into a dictionary\n",
    "input_data = json.loads(input_string)\n",
    "\n",
    "# Extract data and layout from the dictionary\n",
    "data = input_data.get('data', [])\n",
    "layout = input_data.get('layout', {})\n",
    "\n",
    "# Create the Plotly figure\n",
    "fig = go.Figure(data=data, layout=layout)\n",
    "\n",
    "# Show the plot\n",
    "fig.show()\n"
   ]
  }
 ],
 "metadata": {
  "kernelspec": {
   "display_name": "Python 3 (ipykernel)",
   "language": "python",
   "name": "python3"
  },
  "language_info": {
   "codemirror_mode": {
    "name": "ipython",
    "version": 3
   },
   "file_extension": ".py",
   "mimetype": "text/x-python",
   "name": "python",
   "nbconvert_exporter": "python",
   "pygments_lexer": "ipython3",
   "version": "3.11.4"
  }
 },
 "nbformat": 4,
 "nbformat_minor": 5
}
